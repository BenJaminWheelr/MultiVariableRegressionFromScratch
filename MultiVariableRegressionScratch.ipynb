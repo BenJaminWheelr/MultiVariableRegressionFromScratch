{
 "cells": [
  {
   "cell_type": "code",
   "execution_count": 1,
   "id": "dfa7639b-477c-42bb-9af8-6e1de0b2752b",
   "metadata": {},
   "outputs": [],
   "source": [
    "import numpy as np\n",
    "import pandas as pd\n",
    "from math import sqrt\n",
    "from sklearn.model_selection import train_test_split"
   ]
  },
  {
   "cell_type": "code",
   "execution_count": 2,
   "id": "6183e3a8-c6b0-4b41-8f06-a5339e108f58",
   "metadata": {},
   "outputs": [],
   "source": [
    "dataFrame = pd.read_csv(\"MultiVariableRegressionDataset.csv\")"
   ]
  },
  {
   "cell_type": "code",
   "execution_count": 3,
   "id": "6c502f36-51c6-43fc-afe6-3f020fb551b9",
   "metadata": {},
   "outputs": [],
   "source": [
    "dataFrame['CONSTANT'] = 1"
   ]
  },
  {
   "cell_type": "code",
   "execution_count": 4,
   "id": "b1480ed3-1857-40da-9510-d4cfb0920530",
   "metadata": {},
   "outputs": [],
   "source": [
    "featureDframe = dataFrame[['CONSTANT','MONTH', 'DAY', 'YEAR', 'HOLIDAY']]\n",
    "outputDframe = dataFrame['COUNT']"
   ]
  },
  {
   "cell_type": "code",
   "execution_count": 5,
   "id": "3dc97b34-8c95-4f9c-bc81-1abb4bc0c115",
   "metadata": {},
   "outputs": [],
   "source": [
    "featureMatrix = featureDframe.to_numpy()\n",
    "outputMatrix = outputDframe.to_numpy()"
   ]
  },
  {
   "cell_type": "code",
   "execution_count": 6,
   "id": "d34bc560-120a-4a31-8107-083036020f98",
   "metadata": {},
   "outputs": [],
   "source": [
    "xTrain, xTest, yTrain, yTest = train_test_split(featureMatrix, outputMatrix, test_size=0.2, random_state=42)"
   ]
  },
  {
   "cell_type": "code",
   "execution_count": 7,
   "id": "be83a2be-929f-4816-b5f0-a39057ddc096",
   "metadata": {},
   "outputs": [],
   "source": [
    "def getRsme(predictedOutput, actualOutput):\n",
    "    squaredError = (predictedOutput - actualOutput) ** 2\n",
    "    meanSquaredError = squaredError.mean()\n",
    "    rsme = np.sqrt(meanSquaredError)\n",
    "    return rsme"
   ]
  },
  {
   "cell_type": "code",
   "execution_count": 8,
   "id": "0cb47704-aabe-4be3-aa36-9678e9e83cb1",
   "metadata": {},
   "outputs": [],
   "source": [
    "def predictOutput(featureMatrix, weights):\n",
    "    return np.dot(featureMatrix, weights)"
   ]
  },
  {
   "cell_type": "code",
   "execution_count": 9,
   "id": "dc20a489-4d9d-4228-9b25-7e373992e148",
   "metadata": {},
   "outputs": [],
   "source": [
    "def featureDerivative(errors, feature):\n",
    "    return 2 * np.dot(errors, feature)"
   ]
  },
  {
   "cell_type": "code",
   "execution_count": 10,
   "id": "25f2b043-2c89-4b26-9c1c-ae634ec1bdf0",
   "metadata": {},
   "outputs": [],
   "source": [
    "def gradientDescent(featureMatrix, outputMatrix, initialWeights, stepSize, tolerance):\n",
    "    count = 0\n",
    "    converged = False\n",
    "    weights = np.array(initialWeights)\n",
    "    while not converged:\n",
    "        predictions = predictOutput(featureMatrix, weights)\n",
    "        errors = predictions - outputMatrix\n",
    "        gradientSumSquares = 0\n",
    "        for i in range(len(weights)):\n",
    "            derivative = featureDerivative(errors, featureMatrix[:,i])\n",
    "            gradientSumSquares += derivative * derivative\n",
    "            weights[i] -= stepSize * derivative\n",
    "        gradientMagnitude = sqrt(gradientSumSquares)\n",
    "        count += 1\n",
    "        if count == 500000:\n",
    "            count = 0\n",
    "            print(f\"GM: {gradientMagnitude} | T: {tolerance}\")\n",
    "        if gradientMagnitude < tolerance:\n",
    "            converged = True\n",
    "    return weights"
   ]
  },
  {
   "cell_type": "code",
   "execution_count": null,
   "id": "4050c68a-c6a6-4447-a043-15f37c69f60f",
   "metadata": {},
   "outputs": [
    {
     "name": "stdout",
     "output_type": "stream",
    }
   ],
   "source": [
    "initialWeights = np.array([-150., 0., 0., 0., 0.])\n",
    "stepSize = 4e-12\n",
    "tolerance = 1\n",
    "weights = gradientDescent(xTrain, yTrain, initialWeights, stepSize, tolerance)\n",
    "print(weights)"
   ]
  },
  {
   "cell_type": "code",
   "execution_count": null,
   "id": "80ba6c2a-b208-46cd-a3a6-1280162fbd4d",
   "metadata": {},
   "outputs": [],
   "source": [
    "predictions = predictOutput(xTest, weights)"
   ]
  },
  {
   "cell_type": "code",
   "execution_count": null,
   "id": "878b1b94-554b-457c-b5f7-2844a6d17cd5",
   "metadata": {},
   "outputs": [],
   "source": [
    "print(getRsme(predictions, yTest))"
   ]
  },
  {
   "cell_type": "code",
   "execution_count": null,
   "id": "8924faaa-7d13-4684-8824-ecc39dbc7f83",
   "metadata": {},
   "outputs": [],
   "source": [
    "for i in range(len(yTest)):\n",
    "    print(f\"PREDICTED: {predictions[i]} | ACTUAL: {yTest[i]} | DIFFERENCE: {abs(predictions[i] - yTest[i])} | DATE: {xTest[i][1:]}\")"
   ]
  },
  {
   "cell_type": "code",
   "execution_count": null,
   "id": "86cbfab3-e05e-4dc7-bf7b-a7a6b86451d6",
   "metadata": {},
   "outputs": [],
   "source": []
  }
 ],
 "metadata": {
  "kernelspec": {
   "display_name": "Python 3 (ipykernel)",
   "language": "python",
   "name": "python3"
  },
  "language_info": {
   "codemirror_mode": {
    "name": "ipython",
    "version": 3
   },
   "file_extension": ".py",
   "mimetype": "text/x-python",
   "name": "python",
   "nbconvert_exporter": "python",
   "pygments_lexer": "ipython3",
   "version": "3.13.0"
  }
 },
 "nbformat": 4,
 "nbformat_minor": 5
}
